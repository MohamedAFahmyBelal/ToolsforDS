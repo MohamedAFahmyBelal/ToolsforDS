{
 "cells": [
  {
   "cell_type": "markdown",
   "metadata": {},
   "source": [
    "<center>\n",
    "    <img src=\"https://cf-courses-data.s3.us.cloud-object-storage.appdomain.cloud/IBMDeveloperSkillsNetwork-DS0105EN-SkillsNetwork/labs/Module2/images/SN_web_lightmode.png\" width=\"300\" alt=\"cognitiveclass.ai logo\">\n",
    "</center>\n"
   ]
  },
  {
   "cell_type": "markdown",
   "metadata": {},
   "source": [
    "#### Add your code below following the instructions given in the course\n"
   ]
  },
  {
   "cell_type": "markdown",
   "metadata": {},
   "source": [
    "# Tools for Data Science"
   ]
  },
  {
   "cell_type": "markdown",
   "metadata": {},
   "source": [
    "This lab is for practicing the learnt items in this course"
   ]
  },
  {
   "cell_type": "markdown",
   "metadata": {},
   "source": [
    "##### At the begining letus summarize the languages that is used im data science the most comman languages are Python, R, SQL, but some others taking a part from the working space such as Scala, Java, C++, and Julia"
   ]
  },
  {
   "cell_type": "markdown",
   "metadata": {},
   "source": [
    "#### Now let us summarize the libraries used in this field\n",
    "#### Python libraries are Pandas, NumPy, Matplotlib, Seaborn, Scikit-learn, SciPy, Keras, Pytorch\n",
    "#### R libraries such as ggplot2 "
   ]
  },
  {
   "cell_type": "markdown",
   "metadata": {},
   "source": [
    " Data Science Tools\n",
    "    \n",
    "| Serial | Name                                |\n",
    "| -------| ------------------------------------|\n",
    "|    1   | Data Management                     |\n",
    "|    2   | Data Integration and Transformation |\n",
    "|    3   | Data Visualization                  |\n",
    "|    4   | Model building                      |\n",
    "|    5   | Model deployment                    |\n",
    "|    6   | Model monitoring and assessment     |\n",
    "| -------|-------------------------------------|"
   ]
  },
  {
   "cell_type": "markdown",
   "metadata": {},
   "source": [
    "#### Evaluating Arithmetic Expression Examples"
   ]
  },
  {
   "cell_type": "code",
   "execution_count": 8,
   "metadata": {},
   "outputs": [
    {
     "data": {
      "text/plain": [
       "71"
      ]
     },
     "execution_count": 8,
     "metadata": {},
     "output_type": "execute_result"
    }
   ],
   "source": [
    "# Multiply and add numbers\n",
    "(7*8)+15"
   ]
  },
  {
   "cell_type": "code",
   "execution_count": 10,
   "metadata": {},
   "outputs": [
    {
     "name": "stdout",
     "output_type": "stream",
     "text": [
      "3:54\n"
     ]
    }
   ],
   "source": [
    "# Convert minutes to hours\n",
    "given_minutes = 234\n",
    "hours = given_minutes // 60\n",
    "minutes = given_minutes % 60\n",
    "print(\"{}:{}\".format(hours, minutes))"
   ]
  },
  {
   "cell_type": "markdown",
   "metadata": {},
   "source": [
    "## Objectives\n",
    "\n",
    "After completing this lab, you will be able to:\n",
    "*   Get an overview of code and markdown cells\n",
    "*   Create and use Markdown cells with different title sizes\n",
    "*   Making a tables using markdown cells\n",
    "*   Execute an existing code cell\n",
    "*   Perform a simple arithmaic opration in a code cell\n",
    "*   Write comments in Python"
   ]
  },
  {
   "cell_type": "markdown",
   "metadata": {},
   "source": [
    "## Author\n",
    "\n",
    "[M A Fahmy](https://www.https://www.linkedin.com/in/mohamed-belal-437309215/\n",
    "\n"
   ]
  },
  {
   "cell_type": "code",
   "execution_count": null,
   "metadata": {},
   "outputs": [],
   "source": []
  }
 ],
 "metadata": {
  "kernelspec": {
   "display_name": "Python 3 (ipykernel)",
   "language": "python",
   "name": "python3"
  },
  "language_info": {
   "codemirror_mode": {
    "name": "ipython",
    "version": 3
   },
   "file_extension": ".py",
   "mimetype": "text/x-python",
   "name": "python",
   "nbconvert_exporter": "python",
   "pygments_lexer": "ipython3",
   "version": "3.9.7"
  }
 },
 "nbformat": 4,
 "nbformat_minor": 4
}
